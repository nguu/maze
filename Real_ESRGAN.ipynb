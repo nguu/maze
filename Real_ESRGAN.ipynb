{
  "cells": [
    {
      "cell_type": "markdown",
      "metadata": {},
      "source": [
        "# Real-ESRGAN\n",
        "\n",
        "[![Open in Colab](https://colab.research.google.com/assets/colab-badge.svg)](https://colab.research.google.com/github/nguu/maze/blob/main/Real_ESRGAN.ipynb)\n",
        "[![GitHub Repository](https://img.shields.io/github/stars/xinntao/Real-ESRGAN?style=social)](https://github.com/xinntao/Real-ESRGAN)"
      ]
    },
    {
      "cell_type": "markdown",
      "metadata": {},
      "source": [
        "## Enviroment"
      ]
    },
    {
      "cell_type": "code",
      "execution_count": null,
      "metadata": {
        "cellView": "form",
        "id": "GnpnrLfMV2jU"
      },
      "outputs": [],
      "source": [
        "%system git clone https://github.com/xinntao/Real-ESRGAN.git\n",
        "%cd '/content/Real-ESRGAN'\n",
        "%pip install -r requirements.txt\n",
        "%pip install -q basicsr facexlib gfpgan ffmpeg-python\n",
        "%run setup develop"
      ]
    },
    {
      "cell_type": "markdown",
      "metadata": {},
      "source": [
        "## Generate"
      ]
    },
    {
      "cell_type": "code",
      "execution_count": null,
      "metadata": {
        "cellView": "form",
        "id": "XTVL4m_zXqBU"
      },
      "outputs": [],
      "source": [
        "#@title Evaluate { display-mode: \"form\" }\n",
        "import os\n",
        "\n",
        "OUTPUT_DIR = '/content/output' #@param {type:'string'}\n",
        "os.makedirs(OUTPUT_DIR, exist_ok=True)\n",
        "\n",
        "# Arguments\n",
        "# -n, --model_name: Model names\n",
        "# -i, --input: input folder or image\n",
        "# --outscale: Output scale, can be arbitrary scale factore.\n",
        "# if it is out of memory, try to use the `--tile` option\n",
        "\n",
        "MODEL = 'realesr-animevideov3' #@param ['RealESRGAN_x4plus', 'RealESRGAN_x4plus_anime_6B', 'realesr-animevideov3']\n",
        "INPUT = '/content/demo.mp4' #@param {type:'string'}\n",
        "OUTSCALE = 2 # @param {type:'slider', min:1, max:5, step:0.5}\n",
        "FACE_ENHANCE = False #@param {type:'boolean'}\n",
        "\n",
        "filename, extension = os.path.splitext(INPUT)\n",
        "is_image = extension in ['.jpg', '.png']\n",
        "\n",
        "command = [\n",
        "    'inference_realesrgan' if is_image else 'inference_realesrgan_video',\n",
        "    f'-n {MODEL}',\n",
        "    f'-i {INPUT}',\n",
        "    f'-o {OUTPUT_DIR}',\n",
        "    f'--outscale {OUTSCALE}',\n",
        "]\n",
        "\n",
        "if FACE_ENHANCE:\n",
        "    command.append('--face_enhance')\n",
        "\n",
        "command = ' '.join(command)\n",
        "%run $command\n"
      ]
    }
  ],
  "metadata": {
    "accelerator": "GPU",
    "colab": {
      "collapsed_sections": [
        "6BPxh_VmVVIu"
      ],
      "provenance": []
    },
    "kernelspec": {
      "display_name": "Python 3",
      "name": "python3"
    },
    "language_info": {
      "codemirror_mode": {
        "name": "ipython",
        "version": 3
      },
      "file_extension": ".py",
      "mimetype": "text/x-python",
      "name": "python",
      "nbconvert_exporter": "python",
      "pygments_lexer": "ipython3",
      "version": "3.11.4"
    }
  },
  "nbformat": 4,
  "nbformat_minor": 0
}
