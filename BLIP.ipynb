{
  "cells": [
    {
      "cell_type": "markdown",
      "metadata": {
        "id": "yqv_EJySXuBw"
      },
      "source": [
        "# BLIP\n",
        "BLIP: Bootstrapping Language-Image Pre-training for Unified Vision-Language Understanding and Generation\n"
      ]
    },
    {
      "cell_type": "markdown",
      "metadata": {
        "id": "ygPUYqqbZAhk"
      },
      "source": [
        "## Enviroment\n"
      ]
    },
    {
      "cell_type": "code",
      "execution_count": null,
      "metadata": {
        "cellView": "form",
        "id": "_GFfdhepaoeJ"
      },
      "outputs": [],
      "source": [
        "%pip install -q transformers\n",
        "\n",
        "import os\n",
        "from transformers import BlipProcessor, BlipForConditionalGeneration\n",
        "from PIL import Image\n",
        "\n",
        "MODEL_PATH = 'Salesforce/blip-image-captioning-large' #@param {type:'string'}\n",
        "processor = BlipProcessor.from_pretrained(MODEL_PATH)\n",
        "model = BlipForConditionalGeneration.from_pretrained(MODEL_PATH).to(\"cuda\")\n",
        "\n",
        "def generate_caption(image_path: str) -> str:\n",
        "    image = Image.open(image_path).convert('RGB')\n",
        "    inputs = processor(image, return_tensors='pt').to('cuda')\n",
        "    result = model.generate(**inputs)\n",
        "    caption = processor.decode(result[0], skip_special_tokens=True)\n",
        "    return caption\n"
      ]
    },
    {
      "cell_type": "markdown",
      "metadata": {
        "id": "gcEYrv2mxkc5"
      },
      "source": [
        "## Unconditional Image Captioning\n"
      ]
    },
    {
      "cell_type": "markdown",
      "metadata": {
        "id": "99B7UX5_xbdO"
      },
      "source": [
        "### Single Image Captioning"
      ]
    },
    {
      "cell_type": "code",
      "execution_count": null,
      "metadata": {
        "cellView": "form",
        "id": "5Ed1EovvsftN"
      },
      "outputs": [],
      "source": [
        "INPUT_IMAGE = '/content/input.jpg' #@param {type:'string'}\n",
        "print(generate_caption(INPUT_IMAGE))"
      ]
    },
    {
      "cell_type": "markdown",
      "metadata": {
        "id": "RpQ87S8jxnKW"
      },
      "source": [
        "### Batch Image Captioning"
      ]
    },
    {
      "cell_type": "code",
      "execution_count": null,
      "metadata": {
        "cellView": "form",
        "id": "3-m7tnW0xDVo"
      },
      "outputs": [],
      "source": [
        "INPUT_DIR = '/content/input' #@param {type:'string'}\n",
        "RENAME_INPUT_FILE = True #@param {type:'boolean'}\n",
        "EXPORT_TEXT_FILE = False #@param {type:'boolean'}\n",
        "\n",
        "for index, item in enumerate(os.listdir(INPUT_DIR)):\n",
        "    filename, extension = os.path.splitext(item)\n",
        "    filepath = f'{INPUT_DIR}/{item}'\n",
        "    if not extension in ['.jpg', '.png']:\n",
        "        continue\n",
        "    caption = generate_caption(filepath)\n",
        "\n",
        "    new_filepath = f'{INPUT_DIR}/{filename}'\n",
        "    if RENAME_INPUT_FILE:\n",
        "        new_filepath = f'{INPUT_DIR}/{caption}'\n",
        "        os.rename(filepath, f'{new_filepath}{extension}')\n",
        "\n",
        "    if EXPORT_TEXT_FILE:\n",
        "        with open(f'{new_filepath}.txt', 'w') as file:\n",
        "            file.write(caption)\n"
      ]
    }
  ],
  "metadata": {
    "accelerator": "GPU",
    "colab": {
      "gpuType": "T4",
      "provenance": [],
      "toc_visible": true
    },
    "kernelspec": {
      "display_name": "Python 3",
      "name": "python3"
    },
    "language_info": {
      "name": "python"
    }
  },
  "nbformat": 4,
  "nbformat_minor": 0
}
