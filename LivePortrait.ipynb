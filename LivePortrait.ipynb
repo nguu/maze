{
  "cells": [
    {
      "cell_type": "code",
      "execution_count": null,
      "metadata": {
        "cellView": "form",
        "id": "Xs9l2wiyr3ae"
      },
      "outputs": [],
      "source": [
        "#@title Enviroment\n",
        "\n",
        "%cd /content\n",
        "!git clone https://github.com/KwaiVGI/LivePortrait\n",
        "%cd /content/LivePortrait\n",
        "\n",
        "!git lfs install\n",
        "!git clone https://huggingface.co/KwaiVGI/LivePortrait temp_pretrained_weights\n",
        "!mv temp_pretrained_weights/* pretrained_weights/\n",
        "!rm -rf temp_pretrained_weights\n",
        "\n",
        "!pip install -q -r requirements.txt"
      ]
    },
    {
      "cell_type": "code",
      "execution_count": null,
      "metadata": {
        "cellView": "form",
        "id": "8HgMAgvesi3t"
      },
      "outputs": [],
      "source": [
        "#@title Image Inference\n",
        "SOURCE_IMAGE = \"/content/LivePortrait/assets/examples/source/s9.jpg\" #@param {type:'string'}\n",
        "DRIVING_VIDEO = \"/content/LivePortrait/assets/examples/driving/d0.mp4\" #@param {type:'string'}\n",
        "\n",
        "!python inference.py -s $SOURCE_IMAGE -d $DRIVING_VIDEO\n"
      ]
    },
    {
      "cell_type": "code",
      "execution_count": null,
      "metadata": {
        "cellView": "form",
        "id": "VQzzfO8EumfV"
      },
      "outputs": [],
      "source": [
        "#@title Video Inference\n",
        "SOURCE_VIDEO = \"/content/LivePortrait/assets/examples/source/s18.mp4\" #@param {type:'string'}\n",
        "DRIVING_VIDEO = \"/content/LivePortrait/assets/examples/driving/d0.mp4\" #@param {type:'string'}\n",
        "\n",
        "# source input is a video ✨\n",
        "!python inference.py -s $SOURCE_VIDEO -d $DRIVING_VIDEO\n"
      ]
    }
  ],
  "metadata": {
    "accelerator": "GPU",
    "colab": {
      "gpuType": "T4",
      "provenance": []
    },
    "kernelspec": {
      "display_name": "Python 3",
      "name": "python3"
    },
    "language_info": {
      "name": "python"
    }
  },
  "nbformat": 4,
  "nbformat_minor": 0
}
